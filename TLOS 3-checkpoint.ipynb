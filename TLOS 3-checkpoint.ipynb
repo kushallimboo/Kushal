{
 "cells": [
  {
   "cell_type": "markdown",
   "metadata": {},
   "source": [
    "1. Exercise: Concatenate two strings and find the length of the concatenated string."
   ]
  },
  {
   "cell_type": "code",
   "execution_count": 1,
   "metadata": {},
   "outputs": [
    {
     "name": "stdout",
     "output_type": "stream",
     "text": [
      "Length of the concatenated string: 17\n"
     ]
    }
   ],
   "source": [
    "string1 = \"Python\"\n",
    "string2 = \"Programming\"\n",
    "concatenated_string = string1 + string2\n",
    "length = len(concatenated_string)\n",
    "print(\"Length of the concatenated string:\", length)\n"
   ]
  },
  {
   "cell_type": "markdown",
   "metadata": {},
   "source": [
    "2. Exercise: Find the index of a specific character in a string."
   ]
  },
  {
   "cell_type": "code",
   "execution_count": 2,
   "metadata": {},
   "outputs": [
    {
     "name": "stdout",
     "output_type": "stream",
     "text": [
      "Index of character 'p': 31\n"
     ]
    }
   ],
   "source": [
    "input_string = \"Python is an easy-to-learn and powerful programming language\"\n",
    "character_to_find = \"p\"\n",
    "index = input_string.find(character_to_find)\n",
    "print(f\"Index of character '{character_to_find}': {index}\")\n"
   ]
  },
  {
   "cell_type": "markdown",
   "metadata": {},
   "source": [
    "3. Exercise: Use a dictionary to store the following key-value pairs: {\"A\": 1, \"B\": 2, \"C\": 3}. Retrieve the value associated with the key \"B\"."
   ]
  },
  {
   "cell_type": "code",
   "execution_count": 3,
   "metadata": {},
   "outputs": [
    {
     "name": "stdout",
     "output_type": "stream",
     "text": [
      "Value associated with key 'B': 2\n"
     ]
    }
   ],
   "source": [
    "my_dict = {\"A\": 1, \"B\": 2, \"C\": 3}\n",
    "value = my_dict.get(\"B\")\n",
    "print(\"Value associated with key 'B':\", value)\n"
   ]
  },
  {
   "cell_type": "markdown",
   "metadata": {},
   "source": [
    "4. Exercise: Create a tuple with the following elements: 1, 4, 9, 16, 25. Find the length of the tuple."
   ]
  },
  {
   "cell_type": "code",
   "execution_count": 4,
   "metadata": {},
   "outputs": [
    {
     "name": "stdout",
     "output_type": "stream",
     "text": [
      "Length of the tuple: 5\n"
     ]
    }
   ],
   "source": [
    "my_tuple = (1, 4, 9, 16, 25)\n",
    "length = len(my_tuple)\n",
    "print(\"Length of the tuple:\", length)\n"
   ]
  },
  {
   "cell_type": "markdown",
   "metadata": {},
   "source": [
    "5. Exercise: Create a set with the following elements: 1, 2, 3, 4, 5, 2, 3, 4. Find the length of the set."
   ]
  },
  {
   "cell_type": "code",
   "execution_count": 5,
   "metadata": {},
   "outputs": [
    {
     "name": "stdout",
     "output_type": "stream",
     "text": [
      "Length of the set: 5\n"
     ]
    }
   ],
   "source": [
    "my_set = {1, 2, 3, 4, 5, 2, 3, 4}\n",
    "length = len(my_set)\n",
    "print(\"Length of the set:\", length)\n"
   ]
  },
  {
   "cell_type": "markdown",
   "metadata": {},
   "source": [
    "6. Exercise: Check if a given string is a palindrome or not."
   ]
  },
  {
   "cell_type": "code",
   "execution_count": 6,
   "metadata": {},
   "outputs": [
    {
     "name": "stdout",
     "output_type": "stream",
     "text": [
      "Is 'madam' a palindrome? True\n"
     ]
    }
   ],
   "source": [
    "input_string = \"madam\"\n",
    "is_palindrome = input_string.lower() == input_string.lower()[::-1]\n",
    "print(f\"Is '{input_string}' a palindrome? {is_palindrome}\")\n"
   ]
  },
  {
   "cell_type": "markdown",
   "metadata": {},
   "source": [
    "7. Exercise: Find the maximum and minimum values in a list."
   ]
  },
  {
   "cell_type": "code",
   "execution_count": 7,
   "metadata": {},
   "outputs": [
    {
     "name": "stdout",
     "output_type": "stream",
     "text": [
      "Maximum value: 9\n",
      "Minimum value: 1\n"
     ]
    }
   ],
   "source": [
    "my_list = [4, 6, 2, 9, 1, 3]\n",
    "max_value = max(my_list)\n",
    "min_value = min(my_list)\n",
    "print(\"Maximum value:\", max_value)\n",
    "print(\"Minimum value:\", min_value)\n"
   ]
  },
  {
   "cell_type": "markdown",
   "metadata": {},
   "source": [
    "8.Exercise: Replace a specific character in a string."
   ]
  },
  {
   "cell_type": "code",
   "execution_count": 8,
   "metadata": {},
   "outputs": [
    {
     "name": "stdout",
     "output_type": "stream",
     "text": [
      "String with 'a' replaced by 'A': Python is An eAsy-to-leArn And powerful progrAmming lAnguAge\n"
     ]
    }
   ],
   "source": [
    "input_string = \"Python is an easy-to-learn and powerful programming language\"\n",
    "character_to_replace = \"a\"\n",
    "replacement = \"A\"\n",
    "new_string = input_string.replace(character_to_replace, replacement)\n",
    "print(f\"String with '{character_to_replace}' replaced by '{replacement}': {new_string}\")\n"
   ]
  },
  {
   "cell_type": "markdown",
   "metadata": {},
   "source": [
    "9.Exercise: Merge two dictionaries."
   ]
  },
  {
   "cell_type": "code",
   "execution_count": 9,
   "metadata": {},
   "outputs": [
    {
     "name": "stdout",
     "output_type": "stream",
     "text": [
      "Merged dictionary: {'A': 1, 'B': 2, 'C': 3, 'D': 4, 'E': 5, 'F': 6}\n"
     ]
    }
   ],
   "source": [
    "dict1 = {\"A\": 1, \"B\": 2, \"C\": 3}\n",
    "dict2 = {\"D\": 4, \"E\": 5, \"F\": 6}\n",
    "merged_dict = {**dict1, **dict2}\n",
    "print(\"Merged dictionary:\", merged_dict)\n"
   ]
  },
  {
   "cell_type": "markdown",
   "metadata": {},
   "source": [
    "10.Exercise: Check if a given value exists in a tuple."
   ]
  },
  {
   "cell_type": "code",
   "execution_count": 10,
   "metadata": {},
   "outputs": [
    {
     "name": "stdout",
     "output_type": "stream",
     "text": [
      "Does value 9 exist in the tuple? True\n"
     ]
    }
   ],
   "source": [
    "my_tuple = (1, 4, 9, 16, 25)\n",
    "value_to_check = 9\n",
    "value_exists = value_to_check in my_tuple\n",
    "print(f\"Does value {value_to_check} exist in the tuple? {value_exists}\")\n"
   ]
  },
  {
   "cell_type": "markdown",
   "metadata": {},
   "source": [
    "11. Exercise: Remove duplicates from a list and create a new set."
   ]
  },
  {
   "cell_type": "code",
   "execution_count": 11,
   "metadata": {},
   "outputs": [
    {
     "name": "stdout",
     "output_type": "stream",
     "text": [
      "Set without duplicates: {1, 2, 3, 4, 5}\n"
     ]
    }
   ],
   "source": [
    "my_list = [1, 2, 3, 4, 5, 2, 3, 4]\n",
    "unique_set = set(my_list)\n",
    "print(\"Set without duplicates:\", unique_set)\n"
   ]
  },
  {
   "cell_type": "code",
   "execution_count": null,
   "metadata": {},
   "outputs": [],
   "source": []
  }
 ],
 "metadata": {
  "kernelspec": {
   "display_name": "Python 3",
   "language": "python",
   "name": "python3"
  },
  "language_info": {
   "codemirror_mode": {
    "name": "ipython",
    "version": 3
   },
   "file_extension": ".py",
   "mimetype": "text/x-python",
   "name": "python",
   "nbconvert_exporter": "python",
   "pygments_lexer": "ipython3",
   "version": "3.7.3"
  }
 },
 "nbformat": 4,
 "nbformat_minor": 5
}
