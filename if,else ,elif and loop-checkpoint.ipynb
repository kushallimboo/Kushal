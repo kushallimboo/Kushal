{
 "cells": [
  {
   "cell_type": "code",
   "execution_count": 1,
   "metadata": {},
   "outputs": [],
   "source": [
    "#if, else,elif statement"
   ]
  },
  {
   "cell_type": "code",
   "execution_count": 18,
   "metadata": {},
   "outputs": [
    {
     "ename": "SyntaxError",
     "evalue": "invalid syntax (<ipython-input-18-c602f93c7fe3>, line 1)",
     "output_type": "error",
     "traceback": [
      "\u001b[1;36m  File \u001b[1;32m\"<ipython-input-18-c602f93c7fe3>\"\u001b[1;36m, line \u001b[1;32m1\u001b[0m\n\u001b[1;33m    if some_condition\u001b[0m\n\u001b[1;37m                     ^\u001b[0m\n\u001b[1;31mSyntaxError\u001b[0m\u001b[1;31m:\u001b[0m invalid syntax\n"
     ]
    }
   ],
   "source": [
    "if some_condition\n",
    "     #execute some code\n",
    "#else:\n",
    "     #do something else"
   ]
  },
  {
   "cell_type": "code",
   "execution_count": 6,
   "metadata": {},
   "outputs": [
    {
     "name": "stdout",
     "output_type": "stream",
     "text": [
      "its True\n"
     ]
    }
   ],
   "source": [
    "if True:\n",
    "    print('its True')"
   ]
  },
  {
   "cell_type": "code",
   "execution_count": 7,
   "metadata": {},
   "outputs": [],
   "source": [
    "#while loops in python"
   ]
  },
  {
   "cell_type": "code",
   "execution_count": 14,
   "metadata": {},
   "outputs": [],
   "source": [
    "#while boolean_condition:\n",
    "     # do something\n",
    "#else:\n",
    "    #do something"
   ]
  },
  {
   "cell_type": "code",
   "execution_count": 23,
   "metadata": {},
   "outputs": [
    {
     "name": "stdout",
     "output_type": "stream",
     "text": [
      "the current value of xis 0\n",
      "the current value of xis 1\n",
      "the current value of xis 2\n",
      "the current value of xis 3\n",
      "the current value of xis 4\n",
      "x is not less than 5\n"
     ]
    }
   ],
   "source": [
    "x=0\n",
    "while x<5:\n",
    "    print (f'the current value of xis {x}')\n",
    "    #x=x+1\n",
    "    x+=1\n",
    "else:\n",
    "    print('x is not less than 5')"
   ]
  },
  {
   "cell_type": "code",
   "execution_count": 24,
   "metadata": {},
   "outputs": [
    {
     "name": "stdout",
     "output_type": "stream",
     "text": [
      "x   is currently: 0\n",
      "x is still less than 10,additing 1 to x\n",
      "x   is currently: 1\n",
      "x is still less than 10,additing 1 to x\n",
      "x   is currently: 2\n",
      "x is still less than 10,additing 1 to x\n",
      "x   is currently: 3\n",
      "x is still less than 10,additing 1 to x\n",
      "x   is currently: 4\n",
      "x is still less than 10,additing 1 to x\n",
      "x   is currently: 5\n",
      "x is still less than 10,additing 1 to x\n",
      "x   is currently: 6\n",
      "x is still less than 10,additing 1 to x\n",
      "x   is currently: 7\n",
      "x is still less than 10,additing 1 to x\n",
      "x   is currently: 8\n",
      "x is still less than 10,additing 1 to x\n",
      "x   is currently: 9\n",
      "x is still less than 10,additing 1 to x\n",
      "All done!\n"
     ]
    }
   ],
   "source": [
    "x=0\n",
    "while x<10:\n",
    "    print('x   is currently:',x)\n",
    "    print ('x is still less than 10,additing 1 to x')\n",
    "    x+=1\n",
    "else:\n",
    "    print('All done!')"
   ]
  },
  {
   "cell_type": "code",
   "execution_count": 25,
   "metadata": {},
   "outputs": [],
   "source": [
    "#break,continue,pass"
   ]
  },
  {
   "cell_type": "code",
   "execution_count": 26,
   "metadata": {},
   "outputs": [],
   "source": [
    "#break:breaks out of the closet enclosing loop\n",
    "#continue:goes to the top of the closet enclosing loops\n",
    "#pass:does nothing at all"
   ]
  },
  {
   "cell_type": "code",
   "execution_count": 27,
   "metadata": {},
   "outputs": [
    {
     "name": "stdout",
     "output_type": "stream",
     "text": [
      "the end of my script\n"
     ]
    }
   ],
   "source": [
    "x=[1,2,3]\n",
    "for item in x:\n",
    "    #gsdgsd\n",
    "    pass\n",
    "print('the end of my script')"
   ]
  },
  {
   "cell_type": "code",
   "execution_count": 33,
   "metadata": {},
   "outputs": [
    {
     "name": "stdout",
     "output_type": "stream",
     "text": [
      "K\n",
      "u\n",
      "s\n",
      "h\n",
      "l\n"
     ]
    }
   ],
   "source": [
    "mystring = 'Kushal'\n",
    "for letter in mystring:\n",
    "    if letter == 'a':\n",
    "        continue\n",
    "    print(letter)"
   ]
  },
  {
   "cell_type": "code",
   "execution_count": 35,
   "metadata": {},
   "outputs": [
    {
     "name": "stdout",
     "output_type": "stream",
     "text": [
      "J\n",
      "u\n",
      "n\n"
     ]
    }
   ],
   "source": [
    "mystring ='June'\n",
    "for letter in mystring:\n",
    "    if letter == 'e':\n",
    "        break\n",
    "    print(letter)\n",
    "        "
   ]
  },
  {
   "cell_type": "code",
   "execution_count": 36,
   "metadata": {},
   "outputs": [
    {
     "name": "stdout",
     "output_type": "stream",
     "text": [
      "0\n",
      "1\n"
     ]
    }
   ],
   "source": [
    "x = 0\n",
    "while x<5:\n",
    "    if x==2:\n",
    "        break\n",
    "    print(x)\n",
    "    x+=1"
   ]
  },
  {
   "cell_type": "code",
   "execution_count": null,
   "metadata": {},
   "outputs": [],
   "source": []
  }
 ],
 "metadata": {
  "kernelspec": {
   "display_name": "Python 3",
   "language": "python",
   "name": "python3"
  },
  "language_info": {
   "codemirror_mode": {
    "name": "ipython",
    "version": 3
   },
   "file_extension": ".py",
   "mimetype": "text/x-python",
   "name": "python",
   "nbconvert_exporter": "python",
   "pygments_lexer": "ipython3",
   "version": "3.7.3"
  }
 },
 "nbformat": 4,
 "nbformat_minor": 2
}
