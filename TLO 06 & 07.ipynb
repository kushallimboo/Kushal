{
 "cells": [
  {
   "cell_type": "markdown",
   "metadata": {},
   "source": [
    "Exercise 1: Create a function to find the square of a number\n",
    "1. Define a function named square_number that accepts a single argument called num.\n",
    "2. Inside the function, calculate the square of the given number by multiplying num by itself.\n",
    "3. Return the calculated square.\n",
    "4. Call the function with a number and print the result.\n"
   ]
  },
  {
   "cell_type": "code",
   "execution_count": 3,
   "metadata": {},
   "outputs": [
    {
     "name": "stdout",
     "output_type": "stream",
     "text": [
      "The square of 5is 25.\n"
     ]
    }
   ],
   "source": [
    "def square_number(num):\n",
    "    squared = num * num\n",
    "    return squared\n",
    "number = 5\n",
    "result = square_number(number)\n",
    "print(f\"The square of {number}is {result}.\")\n"
   ]
  },
  {
   "cell_type": "markdown",
   "metadata": {},
   "source": [
    "Exercise 2: Create a function to check if a string is a palindrome\n",
    "1. Define a function named is_palindrome that accepts a single argument called word.\n",
    "2. Inside the function, convert the word to lowercase using the lower() method.\n",
    "3. Check if the word is equal to its reverse. You can reverse the word using slicing with word[::-1].\n",
    "4. Return True if the word is a palindrome, and False otherwise.\n",
    "5. Call the function with a word and print the result.\n"
   ]
  },
  {
   "cell_type": "code",
   "execution_count": 1,
   "metadata": {},
   "outputs": [
    {
     "name": "stdout",
     "output_type": "stream",
     "text": [
      "Is 'Racecar' a palindrome? True\n"
     ]
    }
   ],
   "source": [
    "def is_palindrome(word):\n",
    "    word = word.lower()\n",
    "    return word == word[::-1]\n",
    "test_word = \"Racecar\"\n",
    "result = is_palindrome(test_word)\n",
    "print(f\"Is '{test_word}' a palindrome? {result}\")\n"
   ]
  },
  {
   "cell_type": "markdown",
   "metadata": {},
   "source": [
    "Exercise 3: Create a function to find the factorial of a number\n",
    "1. Define a function named factorial that accepts a single argument called num.\n",
    "2. If the given number is 0 or 1, return 1.\n",
    "3. Otherwise, use a loop (or recursion) to calculate the factorial of the given number.\n",
    "4. Return the calculated factorial.\n",
    "5. Call the function with a number and print the result.\n"
   ]
  },
  {
   "cell_type": "code",
   "execution_count": 2,
   "metadata": {},
   "outputs": [
    {
     "name": "stdout",
     "output_type": "stream",
     "text": [
      "The factorial of 5 is 120.\n"
     ]
    }
   ],
   "source": [
    "def factorial(num):\n",
    "    if num == 0 or num == 1:\n",
    "        return 1\n",
    "    else:\n",
    "        result = 1\n",
    "        for i in range(1, num + 1):\n",
    "            result *= i\n",
    "        return result\n",
    "number = 5\n",
    "result = factorial(number)\n",
    "print(f\"The factorial of {number} is {result}.\")\n"
   ]
  },
  {
   "cell_type": "markdown",
   "metadata": {},
   "source": [
    "Exercise 4: Create a function to check if a number is odd\n",
    "1. Define a function named odd_check that accepts a single argument called num.\n",
    "2. Inside the function, check if the given number is odd by using the modulus operator (%) with 2. If the remainder is 1, the 3. number is odd.\n",
    "4. Return a boolean value, True if the number is odd and False otherwise.\n",
    "5. Call the function with a number and print the result.\n"
   ]
  },
  {
   "cell_type": "code",
   "execution_count": 3,
   "metadata": {},
   "outputs": [
    {
     "name": "stdout",
     "output_type": "stream",
     "text": [
      "Is 5 odd? True\n"
     ]
    }
   ],
   "source": [
    "def odd_check(num):\n",
    "    return num % 2 == 1\n",
    "number = 5\n",
    "result = odd_check(number)\n",
    "print(f\"Is {number} odd? {result}\")\n"
   ]
  },
  {
   "cell_type": "markdown",
   "metadata": {},
   "source": [
    "Exercise 5: Create a function to return odd numbers from a given list\n",
    "1. Define a function called odd_numbers_list that takes a single argument, num_list.\n",
    "2. Define an empty list called odd_numbers to store the odd numbers.\n",
    "3. Use a for loop to iterate through the numbers in num_list.\n",
    "4. If a number is odd, append it to the odd_numbers list.\n",
    "5. Return the odd_numbers list.\n",
    "6. Call the function with a list of numbers and print the result.\n"
   ]
  },
  {
   "cell_type": "code",
   "execution_count": 4,
   "metadata": {},
   "outputs": [
    {
     "name": "stdout",
     "output_type": "stream",
     "text": [
      "Odd numbers in the list: [1, 3, 5, 7, 9]\n"
     ]
    }
   ],
   "source": [
    "def odd_numbers_list(num_list):\n",
    "    odd_numbers = []\n",
    "    for number in num_list:\n",
    "        if number % 2 == 1:\n",
    "            odd_numbers.append(number)\n",
    "    return odd_numbers\n",
    "numbers = [1, 2, 3, 4, 5, 6, 7, 8, 9]\n",
    "result = odd_numbers_list(numbers)\n",
    "print(f\"Odd numbers in the list: {result}\")\n"
   ]
  },
  {
   "cell_type": "markdown",
   "metadata": {},
   "source": [
    "Exercise 6: Create a function to find the employee of the month based on the number of hours worked\n",
    "1. Define a function named employee_of_month that accepts a single argument called work_hours.\n",
    "2. Initialize a variable current_max to 0 and a variable employee_of_month as an empty string.\n",
    "3. Use a for loop to iterate through the tuples in work_hours.\n",
    "4. Inside the loop, use tuple unpacking to get the employee's name and hours worked.\n",
    "5. If the employee's hours worked are greater than current_max, update current_max to the employee's hours and update employee_of_month to the employee's name.\n",
    "6. Return a tuple with the employee of the month and their hours worked.\n",
    "7. Call the function with a list of tuples containing employee names and hours worked, and print the result.\n"
   ]
  },
  {
   "cell_type": "code",
   "execution_count": 5,
   "metadata": {},
   "outputs": [
    {
     "name": "stdout",
     "output_type": "stream",
     "text": [
      "Employee of the month is Sammy with 600 hours worked.\n"
     ]
    }
   ],
   "source": [
    "def employee_of_month(work_hours):\n",
    "    current_max = 0\n",
    "    employee_of_month = ''\n",
    "    for employee, hours in work_hours:\n",
    "        if hours > current_max:\n",
    "            current_max = hours\n",
    "            employee_of_month = employee\n",
    "    return (employee_of_month, current_max)\n",
    "work_hours_data = [('Abby', 100), ('Mark', 200), ('Sammy', 600)]\n",
    "result = employee_of_month(work_hours_data)\n",
    "print(f\"Employee of the month is {result[0]} with {result[1]} hours worked.\")\n"
   ]
  },
  {
   "cell_type": "markdown",
   "metadata": {},
   "source": [
    "Exercise 7: Create a list of squared numbers using list comprehension\n",
    "1. Define a function named squared_numbers that accepts a single argument called num_range.\n",
    "2. Use list comprehension to create a list squared_list containing the square of each number in num_range.\n",
    "3. Return the list squared_list.\n",
    "4. Call the function with a range of numbers from 0 to 10, and print the result.\n"
   ]
  },
  {
   "cell_type": "code",
   "execution_count": 6,
   "metadata": {},
   "outputs": [
    {
     "name": "stdout",
     "output_type": "stream",
     "text": [
      "[0, 1, 4, 9, 16, 25, 36, 49, 64, 81, 100]\n"
     ]
    }
   ],
   "source": [
    "def squared_numbers(num_range):\n",
    "    squared_list = [num**2 for num in num_range]\n",
    "    return squared_list\n",
    "result = squared_numbers(range(0, 11))\n",
    "print(result)\n"
   ]
  },
  {
   "cell_type": "markdown",
   "metadata": {},
   "source": [
    "Exercise 8: Create a list of odd numbers using list comprehension\n",
    "    \n",
    "1. Define a function named odd_numbers that accepts a single argument called num_range.\n",
    "2. Use list comprehension to create a list odd_list containing the odd numbers in num_range.\n",
    "3. Return the list odd_list.\n",
    "4. Call the function with a range of numbers from 0 to 10, and print the result.\n"
   ]
  },
  {
   "cell_type": "code",
   "execution_count": 1,
   "metadata": {},
   "outputs": [],
   "source": [
    "def odd_numbers(num_range):\n",
    "    odd_list = [num for num in num_range if num % 2 != 0]\n",
    "    return odd_list\n",
    "result = odd_numbers(range(0, 11))\n"
   ]
  },
  {
   "cell_type": "markdown",
   "metadata": {},
   "source": [
    "Exercise 9: Create a list of even numbers squared using list comprehension\n",
    "    \n",
    "1. Define a function named even_squared_numbers that accepts a single argument called num_range.\n",
    "2. Use list comprehension to create a list even_squared_list containing the square of each even number in num_range.\n",
    "3. Return the list even_squared_list.\n",
    "4. Call the function with a range of numbers from 0 to 10, and print the result.\n"
   ]
  },
  {
   "cell_type": "code",
   "execution_count": 2,
   "metadata": {},
   "outputs": [],
   "source": [
    "def even_squared_numbers(num_range):\n",
    "    even_squared_list = [num**2 for num in num_range if num % 2 == 0]\n",
    "    return even_squared_list\n",
    "result = even_squared_numbers(range(0, 11))\n"
   ]
  },
  {
   "cell_type": "markdown",
   "metadata": {},
   "source": [
    "Exercise 10: Create a list with numbers and their corresponding string using list comprehension\n",
    "    \n",
    "1. Define a function named number_string_list that accepts a single argument called num_range.\n",
    "2. Use list comprehension with an if-else statement to create a list num_string_list containing numbers and their corresponding string using list comprehension \n",
    "3. for each number in num_range, if the number is even, store the number itself; otherwise, store the string 'ODD'.\n",
    "4. Return the list num_string_list.\n",
    "5. Call the function with a range of numbers from 0 to 10, and print the result.\n"
   ]
  },
  {
   "cell_type": "code",
   "execution_count": 3,
   "metadata": {},
   "outputs": [],
   "source": [
    "def number_string_list(num_range):\n",
    "    num_string_list = [num if num % 2 == 0 else 'ODD' for num in num_range]\n",
    "    return num_string_list\n",
    "result = number_string_list(range(0, 11))\n"
   ]
  },
  {
   "cell_type": "markdown",
   "metadata": {},
   "source": [
    "Exercise 11: Convert Celsius to Fahrenheit using list comprehension\n",
    "    \n",
    "1. Define a function named convert_to_fahrenheit that accepts a single argument called celsius_list.\n",
    "2. Use list comprehension to create a list fahrenheit_list containing the Fahrenheit equivalent of each temperature in celsius_list.\n",
    "3. Return the list fahrenheit_list.\n",
    "4. Call the function with a list of Celsius temperatures, and print the result.\n"
   ]
  },
  {
   "cell_type": "code",
   "execution_count": 4,
   "metadata": {},
   "outputs": [],
   "source": [
    "def convert_to_fahrenheit(celsius_list):\n",
    "    fahrenheit_list = [((9/5)*temp + 32) for temp in celsius_list]\n",
    "    return fahrenheit_list\n",
    "celsius_data = [0, 10, 20, 30, 50, 34.5]\n",
    "result = convert_to_fahrenheit(celsius_data)\n"
   ]
  },
  {
   "cell_type": "code",
   "execution_count": null,
   "metadata": {},
   "outputs": [],
   "source": []
  }
 ],
 "metadata": {
  "kernelspec": {
   "display_name": "Python 3",
   "language": "python",
   "name": "python3"
  },
  "language_info": {
   "codemirror_mode": {
    "name": "ipython",
    "version": 3
   },
   "file_extension": ".py",
   "mimetype": "text/x-python",
   "name": "python",
   "nbconvert_exporter": "python",
   "pygments_lexer": "ipython3",
   "version": "3.7.3"
  }
 },
 "nbformat": 4,
 "nbformat_minor": 2
}
